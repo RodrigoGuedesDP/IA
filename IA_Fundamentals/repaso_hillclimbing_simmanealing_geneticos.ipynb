{
  "nbformat": 4,
  "nbformat_minor": 0,
  "metadata": {
    "colab": {
      "provenance": [],
      "authorship_tag": "ABX9TyMWX3IK/jtfOJMznpPrjDMH",
      "include_colab_link": true
    },
    "kernelspec": {
      "name": "python3",
      "display_name": "Python 3"
    },
    "language_info": {
      "name": "python"
    }
  },
  "cells": [
    {
      "cell_type": "markdown",
      "metadata": {
        "id": "view-in-github",
        "colab_type": "text"
      },
      "source": [
        "<a href=\"https://colab.research.google.com/github/RodrigoGuedesDP/IA/blob/main/IA_Fundamentals/repaso_hillclimbing_simmanealing_geneticos.ipynb\" target=\"_parent\"><img src=\"https://colab.research.google.com/assets/colab-badge.svg\" alt=\"Open In Colab\"/></a>"
      ]
    },
    {
      "cell_type": "markdown",
      "source": [
        "###Hill Climbing\n",
        "#### Desarrollaremos de 0 hill climbing para TSP"
      ],
      "metadata": {
        "id": "e3J7GkeWtmzr"
      }
    },
    {
      "cell_type": "code",
      "execution_count": null,
      "metadata": {
        "id": "d-KVx18Cpw7k",
        "colab": {
          "base_uri": "https://localhost:8080/"
        },
        "outputId": "883fe110-b400-43af-efcb-71d19725435c"
      },
      "outputs": [
        {
          "output_type": "stream",
          "name": "stdout",
          "text": [
            "[(53, 24), (77, 82), (82, 66), (41, 4), (27, 6), (22, 10), (100, 51), (40, 43), (77, 62), (69, 20)]\n",
            "407.4066840588592\n"
          ]
        },
        {
          "output_type": "execute_result",
          "data": {
            "text/plain": [
              "407.4066840588592"
            ]
          },
          "metadata": {},
          "execution_count": 8
        }
      ],
      "source": [
        "import numpy as np\n",
        "import random\n",
        "\n",
        "#Problema del TSP: Un agente viajero debe atravesar un grupo de ciudades con la menor distancia posible\n",
        "#Lo haremos para que el area de influencia tenga X y Y max = 100km.\n",
        "def crear_condiciones_iniciales(N):\n",
        "  beg, end = 0, 100\n",
        "  combinaciones = [(x,y) for x in range(beg, end+1)\n",
        "                          for y in range(beg, end+1)]\n",
        "  #Para el caso (raro) donde haya mas numero de ciudades que combinaciones de puntos (si son 100 entonces seria 10,000 combinaciones de ciudades)\n",
        "  if N > len(combinaciones):\n",
        "    raise ValueError(\"No se puede combinar tantas ciudades, debe aumentar el valor de 'end'\")\n",
        "  posiciones = random.sample(combinaciones, N)\n",
        "  print(posiciones)\n",
        "  return posiciones\n",
        "\n",
        "# Funcion para generar una solucion inicial aleatoria\n",
        "def solucion_inicial(posiciones):\n",
        "  combinacion_inicial= random.shuffle(posiciones)\n",
        "  return combinacion_inicial\n",
        "\n",
        "# Funcion para medir la distancia total\n",
        "def distancia_total(posiciones):\n",
        "  lista_distancia = []\n",
        "  for posicion in range(len(posiciones)-1):\n",
        "    # Medimos la distancia euclidiana:\n",
        "    distancia_x = posiciones[posicion+1][0] - posiciones[posicion][0]\n",
        "    distancia_y = posiciones[posicion+1][1] - posiciones[posicion][1]\n",
        "    distancia = (distancia_x**2 + distancia_y**2)**0.5\n",
        "    lista_distancia.append(distancia)\n",
        "  distancia_recorrida = sum(lista_distancia)\n",
        "  return distancia_recorrida\n",
        "\n",
        "# Funcion para hallar vecinos\n",
        "def get_neighbors(posiciones):\n",
        "\n",
        "\n",
        "\n",
        "\n",
        "\n",
        "#posiciones=crear_condiciones_iniciales(10)\n",
        "#distancia_total(posiciones)\n",
        "\n",
        "\n",
        "\n",
        "\n",
        "\n",
        "\n"
      ]
    }
  ]
}