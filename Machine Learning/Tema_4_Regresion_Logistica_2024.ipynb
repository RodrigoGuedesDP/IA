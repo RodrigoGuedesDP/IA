{
  "nbformat": 4,
  "nbformat_minor": 0,
  "metadata": {
    "colab": {
      "provenance": [],
      "include_colab_link": true
    },
    "kernelspec": {
      "name": "python3",
      "display_name": "Python 3"
    },
    "language_info": {
      "name": "python"
    }
  },
  "cells": [
    {
      "cell_type": "markdown",
      "metadata": {
        "id": "view-in-github",
        "colab_type": "text"
      },
      "source": [
        "<a href=\"https://colab.research.google.com/github/RodrigoGuedesDP/IA/blob/main/Machine%20Learning/Tema_4_Regresion_Logistica_2024.ipynb\" target=\"_parent\"><img src=\"https://colab.research.google.com/assets/colab-badge.svg\" alt=\"Open In Colab\"/></a>"
      ]
    },
    {
      "cell_type": "markdown",
      "source": [
        "## Logistic Regression Practice: Breast Cancer\n",
        " ----\n",
        "UTEC : Master in Data Science\n",
        "Course      : Machine Learning \\\\\n",
        "Professor   : Cristian López Del Alamo \\\\\n",
        "Topic      : Logistic Regression \\\\\n",
        "  \n",
        " ----\n",
        "\n",
        "\n",
        " Integrantes:\n",
        " - 1.  ($\\; \\% \\;$)\n",
        " - 2.  ($\\; \\% \\;$)\n",
        " - 3.  ($\\; \\% \\;$)\n",
        " - 4.  ($\\; \\% \\;$)\n",
        "\n",
        "\n"
      ],
      "metadata": {
        "id": "svopgWO7bExV"
      }
    },
    {
      "cell_type": "markdown",
      "source": [
        "# Dataset\n",
        "\n",
        "---\n",
        "\n",
        "\n",
        "The dataset contains cases from a study conducted between 1958 and 1970 at the Billings Hospital of the University of Chicago regarding the survival of patients who had undergone surgery for breast cancer.\n",
        "\n",
        "The database consists of 306 objects, each object has 3 features (Patient's age at the time of the operation, Years of operation, and Number of positive axillary nodes detected) and one predictor (variable to predict survival status, 1 if the patient lived, 0 if the patient died).\n",
        "\n",
        "\n",
        "---\n",
        "\n",
        "\n",
        "<font color=\"blue!10\">**Your task is to predict whether a patient will survive or not.**\n",
        "</font>\n",
        "\n",
        "\n",
        "## <font color=\"#FF6666\"> Remember,  for every mistake your model makes, a possible death will weight on the shoulders of your team.</font>\n",
        "\n",
        "**Download the Database**: [Click](https://docs.google.com/spreadsheets/d/137VWC-uXIeWUIy5F2oVkfPqicFeNFU5oUWVsh5om9a4/edit?usp=sharing)\n",
        "\n"
      ],
      "metadata": {
        "id": "BiMdtNbVlMTd"
      }
    },
    {
      "cell_type": "code",
      "source": [
        "import numpy as np"
      ],
      "metadata": {
        "id": "UDEHxYo2iDYq"
      },
      "execution_count": null,
      "outputs": []
    },
    {
      "cell_type": "markdown",
      "source": [
        "\n",
        "\n",
        "1. **Hypothesis**:\n",
        "\n",
        "-  Line Equation or Hyperplane\n",
        "\\begin{equation}\n",
        "h(x_i) = w_0 + w_1x_{i1} +  w_2x_{i2} ... w_kx_{ik}\n",
        "\\end{equation} \\\\\n",
        "\n",
        "- In matrix form\n",
        "\n",
        "\\begin{equation}\n",
        "h(x_i) = XW^t\n",
        "\\end{equation} \\\\\n",
        "\n",
        "\n",
        "\n",
        "\n",
        "\n",
        "- Sigmoid Function Equation (Binary Classifier)\n",
        "\\begin{equation}\n",
        "s(x_i) = \\frac{1}{1 + e^{-h(x)}}\n",
        "\\end{equation}\n",
        "\n",
        "\n",
        "\n",
        "---\n",
        "\n",
        "\n",
        "Note: **Remember that X is a matrix where the columns represent the features, and the rows represent the number of elements in the database. Don’t forget to add a column of all 1s at the beginning of matrix X for the bias**\n",
        "\n",
        "---\n",
        "\n"
      ],
      "metadata": {
        "id": "eF1-EUpeaGvZ"
      }
    },
    {
      "cell_type": "code",
      "source": [
        "def h(x,w):\n",
        "  return np.dot(x,w.T)\n",
        "\n",
        "def S(x,w):\n",
        "  # write your code here\n",
        "  return 1/(1+np.exp(-x))\n",
        "\n"
      ],
      "metadata": {
        "id": "IccO1C-1b6gH"
      },
      "execution_count": null,
      "outputs": []
    },
    {
      "cell_type": "markdown",
      "source": [
        "2  **Loss Function** (binary Cross-Entropy)\n",
        "\n",
        "\\begin{equation}\n",
        "L = -\\frac{1}{n}\\sum_{i=0}^n(y_ilog(s(x_i)) + (1-y_i)log(1-s(x_i)))  \n",
        "\\end{equation} \\\\\n"
      ],
      "metadata": {
        "id": "TsEclK8ZcDAv"
      }
    },
    {
      "cell_type": "code",
      "source": [
        "def Loss(y,y_aprox):\n",
        "  pass\n",
        "\n"
      ],
      "metadata": {
        "id": "KDeZtXSecvnb"
      },
      "execution_count": null,
      "outputs": []
    },
    {
      "cell_type": "markdown",
      "source": [
        "3 **Derivatives**\n",
        "\n",
        "\\begin{equation}\n",
        "\\frac{\\partial L}{\\partial w_j} = \\frac{1}{n}\\sum_{i=0}^n(y_i - s(x_i))(-x_{ij})\n",
        "\\end{equation} \\\\\n",
        "\n",
        "\n",
        "\n",
        "---\n",
        "\n",
        "Note: $x_{ij}$ refers to the $j_{esima}$ characteristic of the $i_{esimo}$    object in the training dataset\n",
        "\n",
        "\n",
        "---\n",
        "\n",
        "\n"
      ],
      "metadata": {
        "id": "Y5e7Tbc_c7Y8"
      }
    },
    {
      "cell_type": "code",
      "source": [
        "def Derivatives(x,y,w):\n",
        "  # write your code here\n",
        " pass\n",
        "\n"
      ],
      "metadata": {
        "id": "g4cD0fHuc6_I"
      },
      "execution_count": null,
      "outputs": []
    },
    {
      "cell_type": "markdown",
      "source": [
        "4  Change parameters\n",
        "\n",
        "\\begin{equation}\n",
        " w_j = w_j - \\alpha\\frac{\\partial L}{\\partial w_j}\n",
        "\\end{equation}"
      ],
      "metadata": {
        "id": "h_YvV9kAfQFL"
      }
    },
    {
      "cell_type": "code",
      "source": [
        "def change_parameters(w, derivatives, alpha):\n",
        "  # write your code here\n",
        "  return"
      ],
      "metadata": {
        "id": "sN6Mj8G_fnPA"
      },
      "execution_count": null,
      "outputs": []
    },
    {
      "cell_type": "markdown",
      "source": [
        "## Bringing it all together : **Training** code\n",
        "\n",
        "\n",
        "\n"
      ],
      "metadata": {
        "id": "LWEJPUGWfykV"
      }
    },
    {
      "cell_type": "code",
      "source": [
        "def training(x,y, epochs, alpha):\n",
        "  L_value = []\n",
        "  n_feactures = x.shape[1]\n",
        "  w = np.array([np.random.rand() for i in range(n_feactures)])\n",
        "  for i in range(epochs):\n",
        "    y_aprox = S(x,w)\n",
        "    L =  Loss(y,y_aprox)\n",
        "    dw = Derivatives(x,y,w)\n",
        "    w =  change_parameters(w, dw, alpha)\n",
        "    L_value.append(L)\n",
        "  return L_value,w"
      ],
      "metadata": {
        "id": "-4iDI_owgkIV"
      },
      "execution_count": null,
      "outputs": []
    },
    {
      "cell_type": "markdown",
      "source": [
        "## **Testing** code\n",
        "Modify this function to return true positives (TP), true negatives (TN), false positives (FP), and false negatives (FN)\n",
        "\n",
        "\n",
        "\n",
        "---\n",
        "\n",
        "\n",
        "- TP: Percentage of elements predicted as class 1 (positive) that are actually class 1 (positive).\n",
        "- TN: Percentage of elements predicted as class 0 (negative) and that are actually class 0 (negative).\n",
        "- FP: Percentage of elements predicted as class 1 (positive) and that are actually class 0 (negative).\n",
        "- FN: Percentage of elements predicted as class 0 (negative) and that are actually class 1 (positive).\n",
        "\n",
        "\n",
        "---\n",
        "\n",
        "\n",
        "\n"
      ],
      "metadata": {
        "id": "17O_Nrq5g3Ma"
      }
    },
    {
      "cell_type": "code",
      "source": [
        "def Testing(x_test, y_test,w):\n",
        "   n = len(y_test)\n",
        "   y_pred = []\n",
        "   for i in range(n):\n",
        "     y_pred.append(S(x_test[i],w))\n",
        "   print(\"Number of correct data : \", sum(y_pred == y_test))"
      ],
      "metadata": {
        "id": "_Y7UDBtBg2cs"
      },
      "execution_count": null,
      "outputs": []
    },
    {
      "cell_type": "markdown",
      "source": [
        "\n",
        "# 1 Loading Database\n",
        "-  Don't forget to normalize data\n",
        "\n"
      ],
      "metadata": {
        "id": "lwTbWgnGghfv"
      }
    },
    {
      "cell_type": "code",
      "source": [
        "import pandas as pd\n",
        "import numpy as np\n",
        "from google.colab import files\n",
        "\n",
        "filename = files.upload()\n",
        "name = list(filename.keys())[0]\n",
        "data = pd.read_csv(name)\n",
        "X = data[[\"C1\",\"C2\",\"C3\"]]\n",
        "Y = data[[\"Clase\"]]\n",
        "X.head()\n",
        "\n",
        "\n",
        "\n",
        "#  normalize data: write your code here"
      ],
      "metadata": {
        "id": "IgnwNHBJkDgI",
        "colab": {
          "base_uri": "https://localhost:8080/",
          "height": 377
        },
        "outputId": "c804bfb8-d93d-4d08-881d-6b818c4c415a"
      },
      "execution_count": null,
      "outputs": [
        {
          "data": {
            "text/html": [
              "\n",
              "     <input type=\"file\" id=\"files-d2344fa4-cd02-4751-983f-7f3a278d9b5a\" name=\"files[]\" multiple disabled\n",
              "        style=\"border:none\" />\n",
              "     <output id=\"result-d2344fa4-cd02-4751-983f-7f3a278d9b5a\">\n",
              "      Upload widget is only available when the cell has been executed in the\n",
              "      current browser session. Please rerun this cell to enable.\n",
              "      </output>\n",
              "      <script>// Copyright 2017 Google LLC\n",
              "//\n",
              "// Licensed under the Apache License, Version 2.0 (the \"License\");\n",
              "// you may not use this file except in compliance with the License.\n",
              "// You may obtain a copy of the License at\n",
              "//\n",
              "//      http://www.apache.org/licenses/LICENSE-2.0\n",
              "//\n",
              "// Unless required by applicable law or agreed to in writing, software\n",
              "// distributed under the License is distributed on an \"AS IS\" BASIS,\n",
              "// WITHOUT WARRANTIES OR CONDITIONS OF ANY KIND, either express or implied.\n",
              "// See the License for the specific language governing permissions and\n",
              "// limitations under the License.\n",
              "\n",
              "/**\n",
              " * @fileoverview Helpers for google.colab Python module.\n",
              " */\n",
              "(function(scope) {\n",
              "function span(text, styleAttributes = {}) {\n",
              "  const element = document.createElement('span');\n",
              "  element.textContent = text;\n",
              "  for (const key of Object.keys(styleAttributes)) {\n",
              "    element.style[key] = styleAttributes[key];\n",
              "  }\n",
              "  return element;\n",
              "}\n",
              "\n",
              "// Max number of bytes which will be uploaded at a time.\n",
              "const MAX_PAYLOAD_SIZE = 100 * 1024;\n",
              "\n",
              "function _uploadFiles(inputId, outputId) {\n",
              "  const steps = uploadFilesStep(inputId, outputId);\n",
              "  const outputElement = document.getElementById(outputId);\n",
              "  // Cache steps on the outputElement to make it available for the next call\n",
              "  // to uploadFilesContinue from Python.\n",
              "  outputElement.steps = steps;\n",
              "\n",
              "  return _uploadFilesContinue(outputId);\n",
              "}\n",
              "\n",
              "// This is roughly an async generator (not supported in the browser yet),\n",
              "// where there are multiple asynchronous steps and the Python side is going\n",
              "// to poll for completion of each step.\n",
              "// This uses a Promise to block the python side on completion of each step,\n",
              "// then passes the result of the previous step as the input to the next step.\n",
              "function _uploadFilesContinue(outputId) {\n",
              "  const outputElement = document.getElementById(outputId);\n",
              "  const steps = outputElement.steps;\n",
              "\n",
              "  const next = steps.next(outputElement.lastPromiseValue);\n",
              "  return Promise.resolve(next.value.promise).then((value) => {\n",
              "    // Cache the last promise value to make it available to the next\n",
              "    // step of the generator.\n",
              "    outputElement.lastPromiseValue = value;\n",
              "    return next.value.response;\n",
              "  });\n",
              "}\n",
              "\n",
              "/**\n",
              " * Generator function which is called between each async step of the upload\n",
              " * process.\n",
              " * @param {string} inputId Element ID of the input file picker element.\n",
              " * @param {string} outputId Element ID of the output display.\n",
              " * @return {!Iterable<!Object>} Iterable of next steps.\n",
              " */\n",
              "function* uploadFilesStep(inputId, outputId) {\n",
              "  const inputElement = document.getElementById(inputId);\n",
              "  inputElement.disabled = false;\n",
              "\n",
              "  const outputElement = document.getElementById(outputId);\n",
              "  outputElement.innerHTML = '';\n",
              "\n",
              "  const pickedPromise = new Promise((resolve) => {\n",
              "    inputElement.addEventListener('change', (e) => {\n",
              "      resolve(e.target.files);\n",
              "    });\n",
              "  });\n",
              "\n",
              "  const cancel = document.createElement('button');\n",
              "  inputElement.parentElement.appendChild(cancel);\n",
              "  cancel.textContent = 'Cancel upload';\n",
              "  const cancelPromise = new Promise((resolve) => {\n",
              "    cancel.onclick = () => {\n",
              "      resolve(null);\n",
              "    };\n",
              "  });\n",
              "\n",
              "  // Wait for the user to pick the files.\n",
              "  const files = yield {\n",
              "    promise: Promise.race([pickedPromise, cancelPromise]),\n",
              "    response: {\n",
              "      action: 'starting',\n",
              "    }\n",
              "  };\n",
              "\n",
              "  cancel.remove();\n",
              "\n",
              "  // Disable the input element since further picks are not allowed.\n",
              "  inputElement.disabled = true;\n",
              "\n",
              "  if (!files) {\n",
              "    return {\n",
              "      response: {\n",
              "        action: 'complete',\n",
              "      }\n",
              "    };\n",
              "  }\n",
              "\n",
              "  for (const file of files) {\n",
              "    const li = document.createElement('li');\n",
              "    li.append(span(file.name, {fontWeight: 'bold'}));\n",
              "    li.append(span(\n",
              "        `(${file.type || 'n/a'}) - ${file.size} bytes, ` +\n",
              "        `last modified: ${\n",
              "            file.lastModifiedDate ? file.lastModifiedDate.toLocaleDateString() :\n",
              "                                    'n/a'} - `));\n",
              "    const percent = span('0% done');\n",
              "    li.appendChild(percent);\n",
              "\n",
              "    outputElement.appendChild(li);\n",
              "\n",
              "    const fileDataPromise = new Promise((resolve) => {\n",
              "      const reader = new FileReader();\n",
              "      reader.onload = (e) => {\n",
              "        resolve(e.target.result);\n",
              "      };\n",
              "      reader.readAsArrayBuffer(file);\n",
              "    });\n",
              "    // Wait for the data to be ready.\n",
              "    let fileData = yield {\n",
              "      promise: fileDataPromise,\n",
              "      response: {\n",
              "        action: 'continue',\n",
              "      }\n",
              "    };\n",
              "\n",
              "    // Use a chunked sending to avoid message size limits. See b/62115660.\n",
              "    let position = 0;\n",
              "    do {\n",
              "      const length = Math.min(fileData.byteLength - position, MAX_PAYLOAD_SIZE);\n",
              "      const chunk = new Uint8Array(fileData, position, length);\n",
              "      position += length;\n",
              "\n",
              "      const base64 = btoa(String.fromCharCode.apply(null, chunk));\n",
              "      yield {\n",
              "        response: {\n",
              "          action: 'append',\n",
              "          file: file.name,\n",
              "          data: base64,\n",
              "        },\n",
              "      };\n",
              "\n",
              "      let percentDone = fileData.byteLength === 0 ?\n",
              "          100 :\n",
              "          Math.round((position / fileData.byteLength) * 100);\n",
              "      percent.textContent = `${percentDone}% done`;\n",
              "\n",
              "    } while (position < fileData.byteLength);\n",
              "  }\n",
              "\n",
              "  // All done.\n",
              "  yield {\n",
              "    response: {\n",
              "      action: 'complete',\n",
              "    }\n",
              "  };\n",
              "}\n",
              "\n",
              "scope.google = scope.google || {};\n",
              "scope.google.colab = scope.google.colab || {};\n",
              "scope.google.colab._files = {\n",
              "  _uploadFiles,\n",
              "  _uploadFilesContinue,\n",
              "};\n",
              "})(self);\n",
              "</script> "
            ],
            "text/plain": [
              "<IPython.core.display.HTML object>"
            ]
          },
          "metadata": {},
          "output_type": "display_data"
        },
        {
          "output_type": "error",
          "ename": "TypeError",
          "evalue": "'NoneType' object is not subscriptable",
          "traceback": [
            "\u001b[0;31m---------------------------------------------------------------------------\u001b[0m",
            "\u001b[0;31mTypeError\u001b[0m                                 Traceback (most recent call last)",
            "\u001b[0;32m<ipython-input-1-09091a3cf6cd>\u001b[0m in \u001b[0;36m<cell line: 0>\u001b[0;34m()\u001b[0m\n\u001b[1;32m      3\u001b[0m \u001b[0;32mfrom\u001b[0m \u001b[0mgoogle\u001b[0m\u001b[0;34m.\u001b[0m\u001b[0mcolab\u001b[0m \u001b[0;32mimport\u001b[0m \u001b[0mfiles\u001b[0m\u001b[0;34m\u001b[0m\u001b[0;34m\u001b[0m\u001b[0m\n\u001b[1;32m      4\u001b[0m \u001b[0;34m\u001b[0m\u001b[0m\n\u001b[0;32m----> 5\u001b[0;31m \u001b[0mfilename\u001b[0m \u001b[0;34m=\u001b[0m \u001b[0mfiles\u001b[0m\u001b[0;34m.\u001b[0m\u001b[0mupload\u001b[0m\u001b[0;34m(\u001b[0m\u001b[0;34m)\u001b[0m\u001b[0;34m\u001b[0m\u001b[0;34m\u001b[0m\u001b[0m\n\u001b[0m\u001b[1;32m      6\u001b[0m \u001b[0mname\u001b[0m \u001b[0;34m=\u001b[0m \u001b[0mlist\u001b[0m\u001b[0;34m(\u001b[0m\u001b[0mfilename\u001b[0m\u001b[0;34m.\u001b[0m\u001b[0mkeys\u001b[0m\u001b[0;34m(\u001b[0m\u001b[0;34m)\u001b[0m\u001b[0;34m)\u001b[0m\u001b[0;34m[\u001b[0m\u001b[0;36m0\u001b[0m\u001b[0;34m]\u001b[0m\u001b[0;34m\u001b[0m\u001b[0;34m\u001b[0m\u001b[0m\n\u001b[1;32m      7\u001b[0m \u001b[0mdata\u001b[0m \u001b[0;34m=\u001b[0m \u001b[0mpd\u001b[0m\u001b[0;34m.\u001b[0m\u001b[0mread_csv\u001b[0m\u001b[0;34m(\u001b[0m\u001b[0mname\u001b[0m\u001b[0;34m)\u001b[0m\u001b[0;34m\u001b[0m\u001b[0;34m\u001b[0m\u001b[0m\n",
            "\u001b[0;32m/usr/local/lib/python3.11/dist-packages/google/colab/files.py\u001b[0m in \u001b[0;36mupload\u001b[0;34m(target_dir)\u001b[0m\n\u001b[1;32m     70\u001b[0m   \"\"\"\n\u001b[1;32m     71\u001b[0m \u001b[0;34m\u001b[0m\u001b[0m\n\u001b[0;32m---> 72\u001b[0;31m   \u001b[0muploaded_files\u001b[0m \u001b[0;34m=\u001b[0m \u001b[0m_upload_files\u001b[0m\u001b[0;34m(\u001b[0m\u001b[0mmultiple\u001b[0m\u001b[0;34m=\u001b[0m\u001b[0;32mTrue\u001b[0m\u001b[0;34m)\u001b[0m\u001b[0;34m\u001b[0m\u001b[0;34m\u001b[0m\u001b[0m\n\u001b[0m\u001b[1;32m     73\u001b[0m   \u001b[0;31m# Mapping from original filename to filename as saved locally.\u001b[0m\u001b[0;34m\u001b[0m\u001b[0;34m\u001b[0m\u001b[0m\n\u001b[1;32m     74\u001b[0m   \u001b[0mlocal_filenames\u001b[0m \u001b[0;34m=\u001b[0m \u001b[0mdict\u001b[0m\u001b[0;34m(\u001b[0m\u001b[0;34m)\u001b[0m\u001b[0;34m\u001b[0m\u001b[0;34m\u001b[0m\u001b[0m\n",
            "\u001b[0;32m/usr/local/lib/python3.11/dist-packages/google/colab/files.py\u001b[0m in \u001b[0;36m_upload_files\u001b[0;34m(multiple)\u001b[0m\n\u001b[1;32m    169\u001b[0m   \u001b[0mfiles\u001b[0m \u001b[0;34m=\u001b[0m \u001b[0m_collections\u001b[0m\u001b[0;34m.\u001b[0m\u001b[0mdefaultdict\u001b[0m\u001b[0;34m(\u001b[0m\u001b[0mbytes\u001b[0m\u001b[0;34m)\u001b[0m\u001b[0;34m\u001b[0m\u001b[0;34m\u001b[0m\u001b[0m\n\u001b[1;32m    170\u001b[0m \u001b[0;34m\u001b[0m\u001b[0m\n\u001b[0;32m--> 171\u001b[0;31m   \u001b[0;32mwhile\u001b[0m \u001b[0mresult\u001b[0m\u001b[0;34m[\u001b[0m\u001b[0;34m'action'\u001b[0m\u001b[0;34m]\u001b[0m \u001b[0;34m!=\u001b[0m \u001b[0;34m'complete'\u001b[0m\u001b[0;34m:\u001b[0m\u001b[0;34m\u001b[0m\u001b[0;34m\u001b[0m\u001b[0m\n\u001b[0m\u001b[1;32m    172\u001b[0m     result = _output.eval_js(\n\u001b[1;32m    173\u001b[0m         'google.colab._files._uploadFilesContinue(\"{output_id}\")'.format(\n",
            "\u001b[0;31mTypeError\u001b[0m: 'NoneType' object is not subscriptable"
          ]
        }
      ]
    },
    {
      "cell_type": "markdown",
      "source": [
        "\n",
        "*   Randomly splitting data for training and testing\n",
        "*   Training 70$\\%$\n",
        "*   Training 30$\\%$\n",
        "\n"
      ],
      "metadata": {
        "id": "5JbZfoyMmvXm"
      }
    },
    {
      "cell_type": "code",
      "source": [
        "from sklearn.model_selection import train_test_split\n",
        "X_train, X_test, Y_train, Y_test = train_test_split(X,Y , random_state=104,  test_size=0.30,    shuffle=True)"
      ],
      "metadata": {
        "id": "wpVQjUyT3DYp"
      },
      "execution_count": null,
      "outputs": []
    },
    {
      "cell_type": "markdown",
      "source": [
        "# 2. Training the Model\n",
        "\n",
        "- Modify hyperparameters for better results\n",
        "- Todos los datos de entrenamiento y testing estan como dataframe, deben convertirlos a tipo array para que todo funcione.\n",
        "\n",
        "\n",
        "\n"
      ],
      "metadata": {
        "id": "erTOiXnZn4nf"
      }
    },
    {
      "cell_type": "code",
      "source": [
        "import matplotlib.pyplot as plt\n",
        "\n",
        "# Hyperparameters\n",
        "epochs = 1000\n",
        "alpha = 0.001\n",
        "L,W = training(X_train, Y_train, epochs, alpha)\n",
        "# Plotting the Loss Function vs Epochs\n",
        "epochs_list = [i for i in range(epochs)]\n",
        "plt.plot(epochs_list ,L)\n",
        "plt.xlabel(\"Epochs\")\n",
        "plt.ylabel(\"Loss\")\n",
        "plt.title(\"Loss vs Epochs\")\n",
        "plt.show()"
      ],
      "metadata": {
        "id": "1wgLPQWw3WbF"
      },
      "execution_count": null,
      "outputs": []
    },
    {
      "cell_type": "markdown",
      "source": [
        "# 3. Testing the model\n"
      ],
      "metadata": {
        "id": "urBVFBIMpfvg"
      }
    },
    {
      "cell_type": "code",
      "source": [
        " Testing(X_test, Y_test,W)\n"
      ],
      "metadata": {
        "id": "0UDp9eocpyy0"
      },
      "execution_count": null,
      "outputs": []
    },
    {
      "cell_type": "markdown",
      "source": [
        "## Develop the following activities:\n",
        "- Implement all the necessary functions for the code to work correctly.\n",
        "- Try to use matrix operations to make your code more efficient.\n",
        "-  Find the best hyperparameters.\n",
        "- Calculate the percentage of patients correctly belonging to class 1 (true positives).\n",
        "- Calculate the percentage of patients correctly belonging to class 0 (true negatives).\n",
        "- Calculate the percentage of patients incorrectly belonging to class 1 (false positives).\n",
        "- Calculate the percentage of patients incorrectly belonging to class 0 (false negatives).\n",
        "- Show a table with true positives, true negatives, false positives, and false negatives\n",
        "\n",
        "\n",
        "\n"
      ],
      "metadata": {
        "id": "Th-ybXehkbAa"
      }
    },
    {
      "cell_type": "markdown",
      "source": [
        "A very good book: [click](http://users.isr.ist.utl.pt/~wurmd/Livros/school/Bishop%20-%20Pattern%20Recognition%20And%20Machine%20Learning%20-%20Springer%20%202006.pdf)\n",
        "\n",
        "Tips for manipulate pandas : https://towardsdatascience.com/python-pandas-vs-r-dplyr-5b5081945ccb\n"
      ],
      "metadata": {
        "id": "nnIBN6QAqOmG"
      }
    }
  ]
}