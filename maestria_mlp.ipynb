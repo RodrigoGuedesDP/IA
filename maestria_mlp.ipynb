{
  "nbformat": 4,
  "nbformat_minor": 0,
  "metadata": {
    "colab": {
      "provenance": [],
      "include_colab_link": true
    },
    "kernelspec": {
      "name": "python3",
      "display_name": "Python 3"
    },
    "language_info": {
      "name": "python"
    }
  },
  "cells": [
    {
      "cell_type": "markdown",
      "metadata": {
        "id": "view-in-github",
        "colab_type": "text"
      },
      "source": [
        "<a href=\"https://colab.research.google.com/github/RodrigoGuedesDP/IA/blob/main/maestria_mlp.ipynb\" target=\"_parent\"><img src=\"https://colab.research.google.com/assets/colab-badge.svg\" alt=\"Open In Colab\"/></a>"
      ]
    },
    {
      "cell_type": "markdown",
      "source": [
        "# Título:\n",
        "Diseño, Implementación y Evaluación de una Red Neuronal MLP para la Clasificación de Rostros\n",
        "\n",
        "----\n",
        "\n",
        "# Descripción:\n",
        "En este hackathon, cada equipo desarrollarán un modelo de red neuronal de tipo Perceptrón Multicapa (MLP) utilizando PyTorch para clasificar una base de datos de imágenes de rostros. La base de datos consta de 2,410 imágenes, cada imagen está representada como un vector de  dimensión de 32256. Las imágenes corresponden a 38 personas diferentes, donde cada persona tiene múltiples fotografías. El objetivo principal es explorar diferentes configuraciones del modelo ajustando el número de neuronas en una capa oculta y utilizando distintas funciones de activación. A través de estas pruebas, los estudiantes analizarán el impacto de los hiperparámetros en el rendimiento del modelo, implementarán modificaciones en el código base provisto y presentarán una evaluación cuantitativa de los resultados.\n",
        "\n",
        "----\n",
        "\n",
        "# Objetivos:\n",
        "## General:\n",
        "\n",
        "Diseñar, implementar y evaluar una red neuronal MLP en PyTorch para la clasificación de imágenes de rostros.\n",
        "## Específicos:\n",
        "- Convertir y preparar los datos de imágenes en un formato adecuado para el entrenamiento del modelo.\n",
        "- Implementar una red neuronal MLP con una sola capa oculta y explorar el impacto del número de neuronas en el rendimiento del modelo.\n",
        "- Experimentar con diferentes funciones de activación, como ReLU, Sigmoid y Tanh, para observar sus efectos en la clasificación.\n",
        "- Implementar y completar el código base provisto, asegurando que sea funcional y eficiente.\n",
        "- Entrenar y evaluar múltiples configuraciones de la red neuronal utilizando métricas como accuracy, recall, precision y F1 score.\n",
        "- Comparar los resultados de las distintas configuraciones y determinar cuál ofrece el mejor desempeño.\n",
        "- Presentar los resultados en tablas y gráficas, explicando las conclusiones obtenidas.\n",
        "\n",
        "## Base de Datos:\n",
        "\n",
        "Link: [Aquí](https://drive.google.com/file/d/1X8-AJiG0_qW08rx5l8u1Vs3cmx5W8ETj/view?usp=sharing)\n"
      ],
      "metadata": {
        "id": "1rNh3vemBkKF"
      }
    },
    {
      "cell_type": "markdown",
      "source": [
        "**Para aprender, debemos entrenar nuestra propia red neuronal. No dependas de herramientas como ChatGPT o sus variantes. Entrena tu cerebro, equivócate, identifica los errores y aprende de ellos, tal como lo haría una red neuronal MLP gigante.**\n",
        "\n",
        "----\n",
        "\n",
        "Mucha suerte y divierntanse aprendiendo. 😊😊😊"
      ],
      "metadata": {
        "id": "mwt3RMA6uZlb"
      }
    },
    {
      "cell_type": "markdown",
      "source": [
        "# 1. Librerías Necesarias"
      ],
      "metadata": {
        "id": "tDtsNuCg7yfp"
      }
    },
    {
      "cell_type": "code",
      "source": [
        "from torch.utils.data import DataLoader, TensorDataset\n",
        "from sklearn.model_selection import train_test_split\n",
        "import torch\n",
        "import torch.nn as nn\n",
        "import torch.optim as optim\n",
        "from sklearn.metrics import confusion_matrix, classification_report, accuracy_score\n",
        "import numpy as np\n",
        "import matplotlib.pyplot as plt\n",
        "import seaborn as sns"
      ],
      "metadata": {
        "id": "9wBzi7Us7wfr"
      },
      "execution_count": 1,
      "outputs": []
    },
    {
      "cell_type": "markdown",
      "source": [
        "# 2. Cargando datos de Archivo\n",
        "\n",
        "La función load_data carga todas las imágenes de un archivo .m.\n",
        "No se preocupe por eso, se hará de forma transparente para usted."
      ],
      "metadata": {
        "id": "IoHqpK2V73Oy"
      }
    },
    {
      "cell_type": "code",
      "source": [
        "import matplotlib.pyplot as plt\n",
        "import numpy as np\n",
        "import scipy.io\n",
        "import seaborn as sns\n",
        "from google.colab import drive\n",
        "\n",
        "math_path = '/content/allFaces.mat'\n",
        "def Load_data(file):\n",
        "  faces_m_format = scipy.io.loadmat(math_path)\n",
        "  faces = faces_m_format['faces']\n",
        "  m = int(faces_m_format['m'])\n",
        "  n = int(faces_m_format['n'])\n",
        "  nfaces = np.ndarray.flatten(faces_m_format['nfaces'])\n",
        "  y = np.zeros((faces.shape[1],))\n",
        "  j = 0\n",
        "  classes = list(range(len(nfaces)))\n",
        "  for i in nfaces:\n",
        "    y[j:j+i] = classes.pop(0)\n",
        "    j = j + i\n",
        "  print(faces_m_format.keys())\n",
        "  print(\"Total dataset size:\")\n",
        "  print(f\"n_samples: {faces.shape[1]}\")\n",
        "  print(f\"n_features: {m*n}\")\n",
        "  print(f\"n_classes: {len(nfaces)}\")\n",
        "  return faces, y,m,n\n",
        "\n",
        "X,Y,m,n = Load_data(math_path)\n",
        "\n"
      ],
      "metadata": {
        "id": "SN9Xw2BO79mf",
        "colab": {
          "base_uri": "https://localhost:8080/"
        },
        "outputId": "049e6153-f00f-4d84-9a21-cf459d95ea3d"
      },
      "execution_count": 2,
      "outputs": [
        {
          "output_type": "stream",
          "name": "stdout",
          "text": [
            "dict_keys(['__header__', '__version__', '__globals__', 'faces', 'n', 'm', 'sub', 'nfaces', 'person'])\n",
            "Total dataset size:\n",
            "n_samples: 2410\n",
            "n_features: 32256\n",
            "n_classes: 38\n"
          ]
        },
        {
          "output_type": "stream",
          "name": "stderr",
          "text": [
            "/tmp/ipython-input-2874447351.py:11: DeprecationWarning: Conversion of an array with ndim > 0 to a scalar is deprecated, and will error in future. Ensure you extract a single element from your array before performing this operation. (Deprecated NumPy 1.25.)\n",
            "  m = int(faces_m_format['m'])\n",
            "/tmp/ipython-input-2874447351.py:12: DeprecationWarning: Conversion of an array with ndim > 0 to a scalar is deprecated, and will error in future. Ensure you extract a single element from your array before performing this operation. (Deprecated NumPy 1.25.)\n",
            "  n = int(faces_m_format['n'])\n",
            "/tmp/ipython-input-2874447351.py:18: RuntimeWarning: overflow encountered in scalar add\n",
            "  y[j:j+i] = classes.pop(0)\n",
            "/tmp/ipython-input-2874447351.py:19: RuntimeWarning: overflow encountered in scalar add\n",
            "  j = j + i\n"
          ]
        }
      ]
    },
    {
      "cell_type": "markdown",
      "source": [
        "## Funciones Utilitarias.\n",
        "La función Plot_Face se ha implementado para que pueda ver una imagen de su base de datos."
      ],
      "metadata": {
        "id": "4P0LG7fw8VwG"
      }
    },
    {
      "cell_type": "code",
      "source": [
        "def Plot_Face(image_vec, i,title):\n",
        "  fig1 = plt.figure(figsize=(10, 3))\n",
        "  image = image_vec.reshape((m,n))\n",
        "  img = plt.imshow(image.T)\n",
        "  img.set_cmap('gray')\n",
        "  plt.title(title  + str(i))\n",
        "  plt.axis('off')\n",
        "  plt.show()\n",
        "\n",
        "\n",
        "number_image = 12\n",
        "image_vec = X.T[number_image]\n",
        "Plot_Face(image_vec,number_image,'face ')\n",
        "X.shape"
      ],
      "metadata": {
        "id": "lnHaQpSi8WHF",
        "colab": {
          "base_uri": "https://localhost:8080/",
          "height": 307
        },
        "outputId": "a85dcd5d-551d-458d-8dbd-e5291562812a"
      },
      "execution_count": 3,
      "outputs": [
        {
          "output_type": "display_data",
          "data": {
            "text/plain": [
              "<Figure size 1000x300 with 1 Axes>"
            ],
            "image/png": "[encoded data removed]"
          },
          "metadata": {}
        },
        {
          "output_type": "execute_result",
          "data": {
            "text/plain": [
              "(32256, 2410)"
            ]
          },
          "metadata": {},
          "execution_count": 3
        }
      ]
    },
    {
      "cell_type": "markdown",
      "source": [
        "# 3. Reducción de la dimensionalidad\n",
        "\n",
        "Completa el código para que sea funcional y permita reducir los datos, asegurando que se conserve el 95% de la varianza explicada."
      ],
      "metadata": {
        "id": "Wq2KiqEM8nwJ"
      }
    },
    {
      "cell_type": "code",
      "source": [
        "import numpy as np\n",
        "from sklearn.decomposition import PCA\n",
        "\n",
        "pca=PCA(n_components = 0.95)\n",
        "X_pca= pca.fit_transform(X.T)\n",
        "X_pca.shape"
      ],
      "metadata": {
        "id": "I2NYCk9y8mT1",
        "outputId": "7510bc01-b2e4-4220-ba7f-f1e40745a930",
        "colab": {
          "base_uri": "https://localhost:8080/"
        }
      },
      "execution_count": 5,
      "outputs": [
        {
          "output_type": "execute_result",
          "data": {
            "text/plain": [
              "(2410, 62)"
            ]
          },
          "metadata": {},
          "execution_count": 5
        }
      ]
    },
    {
      "cell_type": "markdown",
      "source": [
        "# 4. Separación de datos en train y test.\n",
        "Complete el código usando la libreria train_test_split\n",
        "\n",
        "1.  Divide los datos en conjuntos de entrenamiento y prueba utilizando train_test_split con un 25% para prueba.\n",
        "2.  Recuerda que los datos a dividir son X_pca y Y.\n",
        "3. Convierte los datos a tensores para que PyTorch pueda procesarlos correctamente.\n",
        "4. Crear los dataloader para entrerar y testear el modelo. Se da un ejemplo.\n"
      ],
      "metadata": {
        "id": "8zbkcp9y9GiL"
      }
    },
    {
      "cell_type": "code",
      "execution_count": 6,
      "metadata": {
        "id": "sbF82EGY4pJA"
      },
      "outputs": [],
      "source": [
        "# Escriba su código aquí para separar la data\n",
        "X_train, X_test, y_train, y_test = train_test_split(X_pca, Y, test_size=0.25, random_state=42)"
      ]
    },
    {
      "cell_type": "code",
      "source": [
        "# Convierte tus datos a tensores.\n",
        "# A continuación, te doy un ejemplo para X_test y Y_test.\n",
        "\n",
        "x_test_t = torch.tensor(X_test, dtype=torch.float32)\n",
        "y_test_t = torch.tensor(y_test, dtype=torch.long)\n",
        "\n"
      ],
      "metadata": {
        "id": "tXFgGkU349X5"
      },
      "execution_count": 8,
      "outputs": []
    },
    {
      "cell_type": "code",
      "source": [
        "# Crear TensorDataset y DataLoader. Te pongo un ejemplo para el test\n",
        "dataset_test = TensorDataset(x_test_t, y_test_t)\n",
        "batch_size = 16\n",
        "data_loader_test = DataLoader(dataset_test, batch_size=batch_size, shuffle=False)"
      ],
      "metadata": {
        "id": "X_bALISo5Lyi"
      },
      "execution_count": 9,
      "outputs": []
    },
    {
      "cell_type": "markdown",
      "source": [
        "# 5. Modelo\n",
        "\n",
        "Crea tu modelo MLP utilizando una  capa. Puedes experimentar con el número de neuronas en esa capa y las funciones de activación."
      ],
      "metadata": {
        "id": "J6ywkrff-IHc"
      }
    },
    {
      "cell_type": "code",
      "source": [
        "# Crea aquí tu modelo\n",
        "class Modelo_MLP(nn.Module):\n",
        "  def __init__(self, input_size, hidden_size, output_size):\n",
        "    super(Modelo_MLP, self).__init__()\n",
        "\n",
        "\n",
        "\n",
        "    # Escribe el código que falta"
      ],
      "metadata": {
        "id": "X52fIC4D5XL-"
      },
      "execution_count": null,
      "outputs": []
    },
    {
      "cell_type": "markdown",
      "source": [
        "# 6. Configuración de Parámetros\n",
        "Configura los parámetros de tu modelo"
      ],
      "metadata": {
        "id": "bjm4Itxa-mcH"
      }
    },
    {
      "cell_type": "code",
      "source": [
        "# Parámetros del modelo\n",
        "input_size = ?\n",
        "hidden_sizes = [?]\n",
        "output_size = ?\n",
        "epochs = ?\n",
        "\n",
        "model = Modelo_MLP(input_size, hidden_sizes, output_size)\n",
        "criterion = nn.CrossEntropyLoss()\n",
        "optimizer = optim.Adam(model.parameters(), lr=0.001)\n",
        "\n"
      ],
      "metadata": {
        "id": "63ClTUc85xpV"
      },
      "execution_count": null,
      "outputs": []
    },
    {
      "cell_type": "markdown",
      "source": [
        "# 7. Entrenamiento.\n",
        "Completar el código que falta para que la función se ejecute correctamente."
      ],
      "metadata": {
        "id": "36bKHOYY-3pC"
      }
    },
    {
      "cell_type": "code",
      "source": [
        "# Función de entrenamiento\n",
        "def train(model, criterion, optimizer, data_loader, epochs):\n",
        "    model.train()\n",
        "    for epoch in range(epochs):\n",
        "        total_loss = 0.0\n",
        "        for x_batch, y_batch in data_loader:\n",
        "          # Completa para que funcione\n",
        "        print(f\"Época {epoch + 1}/{epochs}, Pérdida promedio: {total_loss / len(data_loader)}\")"
      ],
      "metadata": {
        "id": "fx1PIq7k58YZ"
      },
      "execution_count": null,
      "outputs": []
    },
    {
      "cell_type": "markdown",
      "source": [
        "# 8. Testing\n",
        "Completa el código necesario para evaluar tu modelo.\n",
        "Se solicita que ajustes algunos hiperparámetros para crear al menos 3 modelos diferentes y mostrar sus resultados en una tabla."
      ],
      "metadata": {
        "id": "Q4O-MGqn_AkW"
      }
    },
    {
      "cell_type": "code",
      "source": [
        "def evaluate(model, data_loader):\n",
        "    model.eval()\n",
        "    y_pred = []\n",
        "    y_reañ = []\n",
        "    with torch.no_grad():\n",
        "        for x_batch, y_batch in data_loader:\n",
        "            # completa para evaluar los datos de test\n",
        "\n",
        "\n",
        "\n",
        "    # Métricas\n",
        "    accuracy = accuracy_score(y_real, y_pred)\n",
        "    # Completa con las métricas que se te piden.\n",
        "    # Precision, Recall y F1_Score.\n"
      ],
      "metadata": {
        "id": "d3f7RRJC6BDv"
      },
      "execution_count": null,
      "outputs": []
    },
    {
      "cell_type": "markdown",
      "source": [
        "# 9. Ejecutando y evaluando el modelo\n",
        "- Si el código anterior es correcto, el siguiente fragmento debería ejecutarse sin problemas.\n",
        "- El entrenamiento del modelo puede tardar entre 5 y 10 minutos, por lo que se recomienda tener paciencia.\n",
        "- Sugerencia: cada miembro del equipo puede probar configuraciones diferentes del modelo y, posteriormente, reunir los resultados en una tabla única para evaluar cuál ofrece el mejor desempeño.\n"
      ],
      "metadata": {
        "id": "Maw6NN-t_yaj"
      }
    },
    {
      "cell_type": "code",
      "source": [
        "train(model, criterion, optimizer, data_loader_train, epochs)\n",
        "evaluate(model, data_loader_test)"
      ],
      "metadata": {
        "id": "dzga3gJB_ysj"
      },
      "execution_count": null,
      "outputs": []
    },
    {
      "cell_type": "markdown",
      "source": [
        "Configura tu red, con diferentes número de neuronas y cambia las funciones de activación y genera\n",
        "una tabla, con los siguientes datos\n",
        "\n",
        "Esta es sólo una tabla de ejemplo:\n",
        "\n",
        "----\n",
        "| Neuronas Hidden | Tipo de Función de Activación | Número de Épocas | Accuracy | Recall | Precision | F1_Score |\n",
        "|------------------|-------------------------------|------------------|----------|--------|-----------|----------|\n",
        "| 64, 32          | ReLU                          | 10               | 0.85     | 0.84   | 0.86      | 0.85     |\n",
        "| 128, 64         | Tanh                          | 20               | 0.89     | 0.88   | 0.90      | 0.89     |\n",
        "| 256, 128        | Sigmoid                       | 15               | 0.83     | 0.82   | 0.84      | 0.83     |\n",
        "| 512, 256        | ReLU                          | 30               | 0.91     | 0.90   | 0.92      | 0.91     |\n",
        "\n",
        "-----"
      ],
      "metadata": {
        "id": "V-MQbF5F7l0k"
      }
    },
    {
      "cell_type": "markdown",
      "source": [],
      "metadata": {
        "id": "Q1oMmJKW7SGU"
      }
    }
  ]
}